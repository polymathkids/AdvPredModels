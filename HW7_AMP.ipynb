{
  "nbformat": 4,
  "nbformat_minor": 0,
  "metadata": {
    "colab": {
      "provenance": [],
      "authorship_tag": "ABX9TyOk8LSuCX8zC3uBbXlz/E+Y",
      "include_colab_link": true
    },
    "kernelspec": {
      "name": "python3",
      "display_name": "Python 3"
    },
    "language_info": {
      "name": "python"
    }
  },
  "cells": [
    {
      "cell_type": "markdown",
      "metadata": {
        "id": "view-in-github",
        "colab_type": "text"
      },
      "source": [
        "<a href=\"https://colab.research.google.com/github/polymathkids/AdvPredModels/blob/main/HW7_AMP.ipynb\" target=\"_parent\"><img src=\"https://colab.research.google.com/assets/colab-badge.svg\" alt=\"Open In Colab\"/></a>"
      ]
    },
    {
      "cell_type": "markdown",
      "source": [
        "Consider the following diagonal matrix:\n",
        "\n",
        "$\\begin{pmatrix} 2 & 0 & 0 & 0 & 0 & 0 \\\\  0 & 1.5 & 0 & 0 & 0 & 0 \\\\ 0 & 0 & -3 & 0 & 0 & 0 \\\\  0 & 0 & 0 & -1 & 0 & 0 \\\\ 0 & 0 & 0 & 0 & .5 & 0 \\\\ 0 & 0 & 0 & 0 & 0 & -.5 \\\\ \\end{pmatrix}$"
      ],
      "metadata": {
        "id": "mxh7lCNY9xsO"
      }
    },
    {
      "cell_type": "markdown",
      "source": [
        "a. Is this matrix dense or sparse? Is it symmetric?\n",
        "\n",
        "For a 6x6 matrix with 36 possible values and only 6 values that are not zero, I would consider this a sparse matrix.\n"
      ],
      "metadata": {
        "id": "u7KA4l6B-A1J"
      }
    },
    {
      "cell_type": "markdown",
      "source": [
        "b. Compute and report the eigenpairs of this matrix. Show work for at least one. Give an short explanation for why you do not need to show work for all."
      ],
      "metadata": {
        "id": "DumQ-GID-Qbn"
      }
    },
    {
      "cell_type": "code",
      "source": [
        "import numpy as np\n",
        "\n",
        "# given matrix diagonal\n",
        "a_diag = np.array([2,1.5,-3,-1,.5,-.5])\n",
        "# Create a diagonal matrix from the array\n",
        "A = np.diag(a_diag)\n",
        "\n",
        "#show work for at least one: \n",
        "\n",
        "#to calculate the eigenvalue/eigenvector of a matrix\n",
        "#you first calaculate the characteristic polynomial of the matrix\n",
        "#p(A) = det(lambda * I - A) where I is the Identity matrix\n",
        "I = np.array([1,1,1,1,1,1])\n",
        "I = np.diag(I)\n",
        "print(I)\n",
        "\n",
        "\n",
        "from sympy import *\n",
        "l = Symbol(\"l\") #let l represent lambda\n",
        "print(l*I-A)"
      ],
      "metadata": {
        "colab": {
          "base_uri": "https://localhost:8080/"
        },
        "id": "pyudRXNZ-QDq",
        "outputId": "331e4a36-a38e-4fde-a458-5463ad67c383"
      },
      "execution_count": 7,
      "outputs": [
        {
          "output_type": "stream",
          "name": "stdout",
          "text": [
            "[[1 0 0 0 0 0]\n",
            " [0 1 0 0 0 0]\n",
            " [0 0 1 0 0 0]\n",
            " [0 0 0 1 0 0]\n",
            " [0 0 0 0 1 0]\n",
            " [0 0 0 0 0 1]]\n",
            "[[I*l - 2.0 I*l I*l I*l I*l I*l]\n",
            " [I*l I*l - 1.5 I*l I*l I*l I*l]\n",
            " [I*l I*l I*l + 3.0 I*l I*l I*l]\n",
            " [I*l I*l I*l I*l + 1.0 I*l I*l]\n",
            " [I*l I*l I*l I*l I*l - 0.5 I*l]\n",
            " [I*l I*l I*l I*l I*l I*l + 0.5]]\n"
          ]
        }
      ]
    },
    {
      "cell_type": "markdown",
      "source": [
        "1. Start with the 6x6 matrix A.\n",
        "\n",
        "$A = $\n",
        "$\\begin{pmatrix} 2 & 0 & 0 & 0 & 0 & 0 \\\\  0 & 1.5 & 0 & 0 & 0 & 0 \\\\ 0 & 0 & -3 & 0 & 0 & 0 \\\\  0 & 0 & 0 & -1 & 0 & 0 \\\\ 0 & 0 & 0 & 0 & .5 & 0 \\\\ 0 & 0 & 0 & 0 & 0 & -.5 \\\\ \\end{pmatrix}$\n",
        "\n",
        "2. Calculate the characteristic polynomial of A, which is given by det(A - λI) = 0, where λ is an eigenvalue of A and I is the 6x6 identity matrix.\n",
        "\n",
        "$\\lambda*I - A = $\n",
        "$\\begin{pmatrix} \\lambda - 2 & 0 & 0 & 0 & 0 & 0 \\\\  0 & \\lambda - 1.5 & 0 & 0 & 0 & 0 \\\\ 0 & 0 & \\lambda + 3 & 0 & 0 & 0 \\\\  0 & 0 & 0 & \\lambda +1 & 0 & 0 \\\\ 0 & 0 & 0 & 0 & \\lambda - .5 & 0 \\\\ 0 & 0 & 0 & 0 & 0 & \\lambda +.5 \\\\ \\end{pmatrix}$\n",
        "\n",
        "$p(lambda) = det(\\lambda * I - A) = $\n",
        "$(\\lambda - 2)(\\lambda - 1.5)(\\lambda + 3)(\\lambda + 1)(\\lambda - 0.5)(\\lambda + 0.5))$\n",
        "\n",
        "3. Solve the characteristic polynomial to find the eigenvalues λ1, λ2, ..., λn of A.\n",
        "\n",
        "The eigenvalues then must be: \n",
        "$\\lambda_1 = 2,    \\lambda_2 =1.5 , \\lambda_3 = -3, \\lambda_4 =  -1, \\lambda_5 =   0.5, \\lambda_6 =-0.5$\n",
        "4. For each eigenvalue λi, solve the system of linear equations $(A - \\lambda_i*I)x = 0$ to find the corresponding eigenvector vi.\n",
        "\n",
        "for $\\lambda_1 = 2, v_1 = 1$\n",
        "This is the same for $\\lambda_2$ to $\\lambda_6$\n",
        "\n",
        "5. Normalize each eigenvector vi to have length 1\n",
        "\n",
        "The Eigenvector is therefore the Identity matrix:\n",
        "\n",
        "$V = $\n",
        "$\\begin{pmatrix} 1 & 0 & 0 & 0 & 0 & 0 \\\\  0 & 1 & 0 & 0 & 0 & 0 \\\\ 0 & 0 & 1 & 0 & 0 & 0 \\\\  0 & 0 & 0 & 1 & 0 & 0 \\\\ 0 & 0 & 0 & 0 & 1 & 0 \\\\ 0 & 0 & 0 & 0 & 0 & 1 \\\\ \\end{pmatrix}$"
      ],
      "metadata": {
        "id": "ucMR4pHKK4eK"
      }
    },
    {
      "cell_type": "markdown",
      "source": [
        "Work is not needed for all becuase A is a diagonal matrix with the $A_{11}, A_{22}, A_{33}, A_{44}, A_{55}$ and $A_{66}$ elements equaling the corresponding $\\lambda$ times the Identity matrix as the other elements of the matrix = 0. Computing the eigenvalues and eignevectors are therefore straightforward. Confirmation is shown below:"
      ],
      "metadata": {
        "id": "nPXf14TMJbPe"
      }
    },
    {
      "cell_type": "code",
      "source": [
        "\n",
        "# compute the eigenvalues\n",
        "eigenvalues, eigenvectors = np.linalg.eig(A)\n",
        "\n",
        "# Print the eigenvalues and eigenvectors\n",
        "print(\"Eigenvalues:\", eigenvalues)\n",
        "print(\"Eigenvectors:\\n\", eigenvectors)\n"
      ],
      "metadata": {
        "colab": {
          "base_uri": "https://localhost:8080/"
        },
        "id": "A72k8kIr-B6G",
        "outputId": "ce9d5bab-5396-4aed-e715-3130cc391974"
      },
      "execution_count": 9,
      "outputs": [
        {
          "output_type": "stream",
          "name": "stdout",
          "text": [
            "Eigenvalues: [ 2.   1.5 -3.  -1.   0.5 -0.5]\n",
            "Eigenvectors:\n",
            " [[1. 0. 0. 0. 0. 0.]\n",
            " [0. 1. 0. 0. 0. 0.]\n",
            " [0. 0. 1. 0. 0. 0.]\n",
            " [0. 0. 0. 1. 0. 0.]\n",
            " [0. 0. 0. 0. 1. 0.]\n",
            " [0. 0. 0. 0. 0. 1.]]\n"
          ]
        }
      ]
    },
    {
      "cell_type": "markdown",
      "source": [
        "c. By hand, compute and report the Frobenius, Operator, and Nuclear norms of this matrix. (Math does not have to be shown if proper justification can be given for its absence)\n",
        "\n",
        "\n",
        "\n"
      ],
      "metadata": {
        "id": "v_4fezupQ3_i"
      }
    },
    {
      "cell_type": "markdown",
      "source": [
        "The singular values of the matrix are $[0.5, 0.5, 1, 1.5, 2, 3]$ and are ordered from smallest to largest. Due to the matrix A being a diagonal matrix, the signular values are just the absolute values of the eignenvalues and diagonal matrix values in ordered sequence.\n",
        "\n",
        "The Frobenius norm is the $\\ell_2$ norm of the singular values $= \\sqrt{\\sigma_1^2 + \\sigma_2^2 + \\sigma_3^2}... = \\sqrt{2^2 +    1.5^2 +  3^2 +  1^2 +    0.5^2 + 0.5^2} = 4.09$\n",
        "\n",
        "The Operator norm of the matrix is the $\\ell_\\infty$ norm of the signular values $= max(\\sigma_i) = 3$\n",
        "\n",
        "The Nuclear norm is the $\\ell_1$ norm of the singluar values $= \\Sigma_i\\sigma_i = \\Sigma(2+1.5+3+1+.5+.5) = 8.5$ "
      ],
      "metadata": {
        "id": "7ZBSBkSpQ-cI"
      }
    },
    {
      "cell_type": "markdown",
      "source": [
        "d. Compare the largest eigenvalue in part b to the operator norm in part c. Are they equal? Why or why not?\n",
        "\n",
        "They are the same if you allow for taking the absolute value of the eignvalues but otherwise, the max value of the eignenvalues is 2 while the max value of the singular values is 3.\n",
        "\n",
        "We showed that eigenvalues of the given matrix (named A) were defined as the solutions to the equation $det(A - \\lambda*I) = 0$, where I is the identity matrix and $\\lambda$ is a scalar. The eigenvalues of A were the roots of this polynomial, and they represent the scaling factor for the corresponding eigenvectors of A. Eigenvalues can be negative, zero, or positive, depending on the matrix A. In this case, the largest absolute value was -3 but the largest scalar value was 2.\n",
        "\n",
        "On the other hand, the singular values of the matrix A were defined as the square roots of the eigenvalues of the matrix A^T A or AA^T. In our case with a diagonal matrix, they were the absolute values of the eigenvalues. Singular values are always non-negative real numbers. \n",
        "\n",
        "Since eigenvalues can be negative, zero, or positive and singluar values can only be positive, the difference in largest values is dependent on the signs of the values in the diagonal matrix A.\n"
      ],
      "metadata": {
        "id": "8dU4VTw7Q-vc"
      }
    }
  ]
}